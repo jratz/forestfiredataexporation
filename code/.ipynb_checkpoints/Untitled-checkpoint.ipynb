{
 "cells": [
  {
   "cell_type": "code",
   "execution_count": 2,
   "metadata": {},
   "outputs": [],
   "source": [
    "import pandas as pd\n",
    "df = pd.read_csv('../data/forestfires.csv')"
   ]
  },
  {
   "cell_type": "code",
   "execution_count": 3,
   "metadata": {},
   "outputs": [
    {
     "name": "stdout",
     "output_type": "stream",
     "text": [
      "Index(['X', 'Y', 'month', 'day', 'FFMC', 'DMC', 'DC', 'ISI', 'temp', 'RH',\n",
      "       'wind', 'rain', 'area'],\n",
      "      dtype='object')\n"
     ]
    }
   ],
   "source": [
    "print(df.columns)"
   ]
  },
  {
   "cell_type": "code",
   "execution_count": 5,
   "metadata": {},
   "outputs": [
    {
     "data": {
      "text/plain": [
       "1      oct\n",
       "2      oct\n",
       "3      mar\n",
       "4      mar\n",
       "5      aug\n",
       "6      aug\n",
       "7      aug\n",
       "8      sep\n",
       "9      sep\n",
       "10     sep\n",
       "11     sep\n",
       "12     aug\n",
       "13     sep\n",
       "14     sep\n",
       "15     sep\n",
       "16     mar\n",
       "17     oct\n",
       "18     mar\n",
       "19     apr\n",
       "20     sep\n",
       "21     sep\n",
       "22     jun\n",
       "23     aug\n",
       "24     aug\n",
       "25     aug\n",
       "26     sep\n",
       "27     sep\n",
       "28     sep\n",
       "29     sep\n",
       "30     sep\n",
       "      ... \n",
       "487    aug\n",
       "488    aug\n",
       "489    aug\n",
       "490    aug\n",
       "491    aug\n",
       "492    aug\n",
       "493    aug\n",
       "494    aug\n",
       "495    aug\n",
       "496    aug\n",
       "497    aug\n",
       "498    aug\n",
       "499    aug\n",
       "500    aug\n",
       "501    aug\n",
       "502    aug\n",
       "503    aug\n",
       "504    aug\n",
       "505    aug\n",
       "506    aug\n",
       "507    aug\n",
       "508    aug\n",
       "509    aug\n",
       "510    aug\n",
       "511    aug\n",
       "512    aug\n",
       "513    aug\n",
       "514    aug\n",
       "515    aug\n",
       "516    nov\n",
       "Name: month, Length: 516, dtype: object"
      ]
     },
     "execution_count": 5,
     "metadata": {},
     "output_type": "execute_result"
    }
   ],
   "source": [
    "df.loc[1:][\"month\"]"
   ]
  },
  {
   "cell_type": "code",
   "execution_count": 22,
   "metadata": {},
   "outputs": [
    {
     "name": "stdout",
     "output_type": "stream",
     "text": [
      "[8, 9, 10, 11, 13, 14, 15, 20, 21, 26, 27, 28, 29, 30, 31, 32, 33, 34, 35, 43, 44, 45, 46, 50, 55, 56, 66, 67, 68, 71, 74, 85, 86, 87, 88, 95, 103, 108, 109, 112, 113, 122, 123, 124, 127, 133, 136, 137, 139, 140, 147, 149, 153, 154, 156, 159, 163, 164, 170, 173, 178, 180, 185, 187, 193, 197, 198, 199, 200, 205, 207, 208, 209, 212, 216, 217, 218, 221, 224, 225, 228, 230, 231, 232, 233, 234, 236, 237, 238, 305, 306, 307, 308, 309, 310, 311, 312, 313, 314, 315, 316, 317, 318, 319, 320, 321, 322, 323, 324, 325, 326, 327, 328, 329, 330, 331, 332, 333, 334, 335, 336, 337, 338, 339, 340, 341, 342, 343, 344, 345, 346, 347, 348, 349, 350, 351, 352, 353, 354, 355, 356, 357, 358, 359, 360, 361, 362, 363, 364, 365, 366, 367, 368, 369, 370, 374, 375, 386, 391, 392, 396, 401, 404, 406, 408, 423, 430, 439, 440, 444, 448, 462]\n"
     ]
    }
   ],
   "source": [
    "septembers = []\n",
    "for i in df.index:\n",
    "    if df.loc[i][\"month\"] == \"sep\":\n",
    "        septembers += [i]\n",
    "print(septembers)"
   ]
  },
  {
   "cell_type": "code",
   "execution_count": 36,
   "metadata": {},
   "outputs": [
    {
     "data": {
      "text/plain": [
       "172"
      ]
     },
     "execution_count": 36,
     "metadata": {},
     "output_type": "execute_result"
    }
   ],
   "source": [
    "len(septembers)"
   ]
  },
  {
   "cell_type": "code",
   "execution_count": 52,
   "metadata": {},
   "outputs": [],
   "source": [
    "def temp_avg():\n",
    "    total = 0\n",
    "    count = 0\n",
    "    for i in month_allo:\n",
    "        total += df.loc[i][\"temp\"]\n",
    "        count += 1\n",
    "    print(total/count)\n",
    "    return"
   ]
  },
  {
   "cell_type": "code",
   "execution_count": 53,
   "metadata": {},
   "outputs": [
    {
     "name": "stdout",
     "output_type": "stream",
     "text": [
      "19.61220930232558\n"
     ]
    }
   ],
   "source": [
    "temp_avg()"
   ]
  },
  {
   "cell_type": "code",
   "execution_count": 58,
   "metadata": {},
   "outputs": [
    {
     "name": "stdout",
     "output_type": "stream",
     "text": [
      "first three letters of monthaug\n",
      "[5, 6, 7, 12, 23, 24, 25, 41, 42, 51, 52, 53, 54, 62, 63, 64, 65, 73, 78, 79, 80, 81, 82, 83, 84, 90, 92, 93, 94, 98, 99, 100, 101, 102, 107, 119, 120, 121, 135, 141, 142, 144, 145, 148, 155, 157, 158, 161, 166, 167, 169, 171, 172, 174, 175, 177, 179, 184, 191, 192, 194, 195, 206, 211, 220, 227, 229, 235, 242, 243, 244, 245, 246, 247, 248, 249, 250, 251, 252, 253, 254, 255, 256, 257, 258, 259, 260, 261, 262, 263, 264, 265, 266, 267, 268, 269, 270, 271, 272, 372, 373, 376, 377, 381, 382, 383, 384, 385, 388, 389, 397, 398, 402, 403, 405, 413, 414, 415, 418, 419, 420, 421, 424, 425, 426, 427, 428, 429, 431, 432, 433, 434, 436, 437, 438, 441, 445, 446, 449, 450, 451, 452, 453, 454, 456, 457, 458, 459, 460, 461, 482, 483, 484, 485, 486, 487, 488, 489, 490, 491, 492, 493, 494, 495, 496, 497, 498, 499, 500, 501, 502, 503, 504, 505, 506, 507, 508, 509, 510, 511, 512, 513, 514, 515]\n",
      "21.63152173913045\n"
     ]
    }
   ],
   "source": [
    "month_inp = input(\"first three letters of month\")\n",
    "month_allo = []\n",
    "for i in df.index:\n",
    "    if df.loc[i][\"month\"] == month_inp:\n",
    "        month_allo += [i]\n",
    "print(month_allo)\n",
    "temp_avg()"
   ]
  },
  {
   "cell_type": "code",
   "execution_count": 55,
   "metadata": {},
   "outputs": [
    {
     "name": "stdout",
     "output_type": "stream",
     "text": [
      "17.093333333333337\n"
     ]
    }
   ],
   "source": [
    "temp_avg()"
   ]
  },
  {
   "cell_type": "code",
   "execution_count": 62,
   "metadata": {},
   "outputs": [
    {
     "data": {
      "text/plain": [
       "0      mar\n",
       "1      oct\n",
       "2      oct\n",
       "3      mar\n",
       "4      mar\n",
       "5      aug\n",
       "6      aug\n",
       "7      aug\n",
       "8      sep\n",
       "9      sep\n",
       "10     sep\n",
       "11     sep\n",
       "12     aug\n",
       "13     sep\n",
       "14     sep\n",
       "15     sep\n",
       "16     mar\n",
       "17     oct\n",
       "18     mar\n",
       "19     apr\n",
       "20     sep\n",
       "21     sep\n",
       "22     jun\n",
       "23     aug\n",
       "24     aug\n",
       "25     aug\n",
       "26     sep\n",
       "27     sep\n",
       "28     sep\n",
       "29     sep\n",
       "      ... \n",
       "487    aug\n",
       "488    aug\n",
       "489    aug\n",
       "490    aug\n",
       "491    aug\n",
       "492    aug\n",
       "493    aug\n",
       "494    aug\n",
       "495    aug\n",
       "496    aug\n",
       "497    aug\n",
       "498    aug\n",
       "499    aug\n",
       "500    aug\n",
       "501    aug\n",
       "502    aug\n",
       "503    aug\n",
       "504    aug\n",
       "505    aug\n",
       "506    aug\n",
       "507    aug\n",
       "508    aug\n",
       "509    aug\n",
       "510    aug\n",
       "511    aug\n",
       "512    aug\n",
       "513    aug\n",
       "514    aug\n",
       "515    aug\n",
       "516    nov\n",
       "Name: month, Length: 517, dtype: object"
      ]
     },
     "execution_count": 62,
     "metadata": {},
     "output_type": "execute_result"
    }
   ],
   "source": [
    "df.loc[0:][\"month\"]"
   ]
  },
  {
   "cell_type": "code",
   "execution_count": null,
   "metadata": {},
   "outputs": [],
   "source": [
    "months[\"sep\", \"oct\", \"nov\"]\n",
    "\n",
    "count[]"
   ]
  }
 ],
 "metadata": {
  "kernelspec": {
   "display_name": "Python 3",
   "language": "python",
   "name": "python3"
  },
  "language_info": {
   "codemirror_mode": {
    "name": "ipython",
    "version": 3
   },
   "file_extension": ".py",
   "mimetype": "text/x-python",
   "name": "python",
   "nbconvert_exporter": "python",
   "pygments_lexer": "ipython3",
   "version": "3.7.0"
  }
 },
 "nbformat": 4,
 "nbformat_minor": 2
}
