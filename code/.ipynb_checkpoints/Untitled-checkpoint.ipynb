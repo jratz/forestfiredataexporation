{
 "cells": [
  {
   "cell_type": "code",
   "execution_count": null,
   "metadata": {},
   "outputs": [],
   "source": [
    "import pandas as pd\n",
    "df = pd.read_csv('../data/forestfires.csv')"
   ]
  },
  {
   "cell_type": "code",
   "execution_count": 28,
   "metadata": {},
   "outputs": [
    {
     "name": "stdout",
     "output_type": "stream",
     "text": [
      "Index(['X', 'Y', 'month', 'day', 'FFMC', 'DMC', 'DC', 'ISI', 'temp', 'RH',\n",
      "       'wind', 'rain', 'area'],\n",
      "      dtype='object')\n"
     ]
    }
   ],
   "source": [
    "print(df.columns)"
   ]
  },
  {
   "cell_type": "code",
   "execution_count": 25,
   "metadata": {},
   "outputs": [],
   "source": [
    "def avg_temp(month):\n",
    "    total = 0\n",
    "    for element in month:\n",
    "        total += df.loc[element]['temp']\n",
    "    print(total/len(month), \"average temperature in C\")"
   ]
  },
  {
   "cell_type": "code",
   "execution_count": 31,
   "metadata": {},
   "outputs": [],
   "source": [
    "def avg_wind(month):\n",
    "    total = 0\n",
    "    for element in month:\n",
    "        total += df.loc[element]['wind']\n",
    "    print(total/len(month), \"average wind in kl/hour\")"
   ]
  },
  {
   "cell_type": "code",
   "execution_count": 26,
   "metadata": {},
   "outputs": [],
   "source": [
    "months = [\"sep\", \"oct\", \"nov\", \"dec\", \"jan\", \"feb\", \"mar\", \"apr\", \"may\", \"jun\", \"jul\", \"aug\"]\n",
    "data = [[], [], [], [], [], [], [], [], [], [], [], []]\n",
    "for i in df.index:\n",
    "    month = df.loc[i]['month']\n",
    "    data[months.index(month)] += [i]"
   ]
  },
  {
   "cell_type": "code",
   "execution_count": 27,
   "metadata": {},
   "outputs": [
    {
     "name": "stdout",
     "output_type": "stream",
     "text": [
      "monthsep\n",
      "19.61220930232558 average temperature in C\n"
     ]
    }
   ],
   "source": [
    "avg_temp(data[months.index(input('month'))])"
   ]
  },
  {
   "cell_type": "code",
   "execution_count": 30,
   "metadata": {},
   "outputs": [
    {
     "name": "stdout",
     "output_type": "stream",
     "text": [
      "monthsep\n",
      "3.5575581395348848 average wind\n"
     ]
    }
   ],
   "source": [
    "avg_wind(data[months.index(input('month'))])"
   ]
  },
  {
   "cell_type": "code",
   "execution_count": 36,
   "metadata": {},
   "outputs": [
    {
     "name": "stdout",
     "output_type": "stream",
     "text": [
      "8\n",
      "7\n",
      "7\n",
      "7\n",
      "6\n",
      "6\n",
      "6\n",
      "6\n",
      "5\n",
      "7\n",
      "7\n",
      "6\n",
      "6\n",
      "6\n",
      "6\n",
      "6\n",
      "6\n",
      "6\n",
      "6\n",
      "4\n",
      "4\n",
      "5\n",
      "5\n",
      "4\n",
      "4\n",
      "4\n",
      "2\n",
      "2\n",
      "2\n",
      "4\n",
      "5\n",
      "1\n",
      "1\n",
      "1\n",
      "1\n",
      "4\n",
      "2\n",
      "4\n",
      "4\n",
      "3\n",
      "3\n",
      "3\n",
      "3\n",
      "3\n",
      "3\n",
      "4\n",
      "3\n",
      "3\n",
      "1\n",
      "2\n",
      "8\n",
      "8\n",
      "5\n",
      "1\n",
      "2\n",
      "7\n",
      "8\n",
      "8\n",
      "5\n",
      "4\n",
      "2\n",
      "1\n",
      "2\n",
      "1\n",
      "4\n",
      "4\n",
      "3\n",
      "2\n",
      "1\n",
      "4\n",
      "7\n",
      "6\n",
      "8\n",
      "7\n",
      "4\n",
      "1\n",
      "4\n",
      "3\n",
      "7\n",
      "4\n",
      "4\n",
      "4\n",
      "1\n",
      "6\n",
      "9\n",
      "4\n",
      "2\n",
      "1\n",
      "6\n",
      "1\n",
      "7\n",
      "3\n",
      "2\n",
      "2\n",
      "7\n",
      "6\n",
      "2\n",
      "6\n",
      "4\n",
      "3\n",
      "4\n",
      "4\n",
      "6\n",
      "5\n",
      "6\n",
      "1\n",
      "6\n",
      "3\n",
      "6\n",
      "1\n",
      "5\n",
      "6\n",
      "6\n",
      "4\n",
      "3\n",
      "7\n",
      "4\n",
      "1\n",
      "2\n",
      "4\n",
      "7\n",
      "6\n",
      "8\n",
      "2\n",
      "2\n",
      "8\n",
      "6\n",
      "8\n",
      "6\n",
      "2\n",
      "1\n",
      "5\n",
      "3\n",
      "5\n",
      "5\n",
      "4\n",
      "7\n",
      "7\n",
      "7\n",
      "4\n",
      "4\n",
      "6\n",
      "6\n",
      "1\n",
      "6\n",
      "4\n",
      "7\n",
      "4\n",
      "6\n",
      "6\n",
      "4\n",
      "4\n",
      "6\n",
      "4\n",
      "7\n",
      "6\n",
      "6\n",
      "3\n",
      "8\n",
      "1\n",
      "4\n",
      "3\n",
      "2\n",
      "6\n",
      "4\n",
      "1\n",
      "7\n",
      "1\n",
      "5\n",
      "2\n",
      "7\n",
      "1\n"
     ]
    }
   ],
   "source": [
    "for element in data[months.index('sep')]:\n",
    "    print(df.loc[element]['X'])"
   ]
  },
  {
   "cell_type": "code",
   "execution_count": null,
   "metadata": {},
   "outputs": [],
   "source": []
  },
  {
   "cell_type": "code",
   "execution_count": null,
   "metadata": {},
   "outputs": [],
   "source": []
  }
 ],
 "metadata": {
  "kernelspec": {
   "display_name": "Python 3",
   "language": "python",
   "name": "python3"
  },
  "language_info": {
   "codemirror_mode": {
    "name": "ipython",
    "version": 3
   },
   "file_extension": ".py",
   "mimetype": "text/x-python",
   "name": "python",
   "nbconvert_exporter": "python",
   "pygments_lexer": "ipython3",
   "version": "3.7.0"
  }
 },
 "nbformat": 4,
 "nbformat_minor": 2
}
